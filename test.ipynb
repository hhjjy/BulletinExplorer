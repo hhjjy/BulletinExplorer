{
 "cells": [
  {
   "cell_type": "code",
   "execution_count": 18,
   "metadata": {},
   "outputs": [],
   "source": [
    "from abc import ABC, abstractmethod\n",
    "import requests\n",
    "from bs4 import BeautifulSoup\n",
    "\n",
    "# 基礎爬蟲類\n",
    "class Scraper(ABC):\n",
    "    def __init__(self, url):\n",
    "        self.url = url\n",
    "\n",
    "    @abstractmethod\n",
    "    def scrape(self):\n",
    "        pass\n",
    "\n",
    "# 台科大公佈欄爬蟲\n",
    "class NTUSTBulletinScraper(Scraper):\n",
    "    def scrape(self):\n",
    "        response = requests.get(self.url)\n",
    "        soup = BeautifulSoup(response.content, 'html.parser')\n",
    "        table = soup.find(\"table\")# 找table 標籤 \n",
    "        thead = table.find(\"thead\")# 從table 找第一個匹配的\n",
    "        tbody = table.find(\"tbody\")# 從table找第一個匹配的\n",
    "\n",
    "        # # Process the table one row at a time\n",
    "        i = 1\n",
    "        data = [] \n",
    "        for row in tbody.find_all(\"tr\"):\n",
    "            data_row = [] \n",
    "            date = row.find(\"td\",{\"data-th\":\"日期\"}).get_text(strip=True)            \n",
    "            publisher = row.find(\"td\",{\"data-th\":\"發佈單位\"}).get_text(strip=True)\n",
    "            title = row.find(\"td\",{\"data-th\":\"標題\"}).get_text(strip=True)\n",
    "            a_tag = row.find(\"a\")\n",
    "            url = a_tag['href'] if a_tag and 'href' in a_tag.attrs else None\n",
    "            content = \"\" # 從url去爬連結內文\n",
    "            if url != None:\n",
    "                webpage = requests.get(url)\n",
    "                soup = BeautifulSoup(webpage.content, 'html.parser')\n",
    "                paragraphs = soup.find_all(\"p\")\n",
    "                for p in paragraphs:\n",
    "                    content += p.get_text(strip=True)\n",
    "            data.append({'date':date,'publisher':publisher,'title':title,'url':url,'content':content})\n",
    "        return data\n",
    "\n",
    "        \n",
    "\n",
    "# 台科大語言中心爬蟲\n",
    "class NTUSTLanguageCenterScraper(Scraper):\n",
    "    def scrape(self):\n",
    "        response = requests.get(self.url)\n",
    "        soup = BeautifulSoup(response.content, 'html.parser')\n",
    "        # 添加針對台科大語言中心的爬蟲邏輯\n",
    "        print(\"Scraping NTUST Language Center...\")\n",
    "    \n",
    "# 台科大校網公布欄爬蟲\n",
    "class NTUSTMajorAnnouncementScraper(Scraper):\n",
    "    def scrape(self):\n",
    "        response = requests.get(self.url)\n",
    "        soup = BeautifulSoup(response.content, 'html.parser')\n",
    "        # 添加針對台科大校網公布欄的爬蟲邏輯\n",
    "        print(\"Scraping NTUST Major Announcements...\")\n",
    "\n",
    "\n",
    "\n"
   ]
  },
  {
   "cell_type": "code",
   "execution_count": 17,
   "metadata": {},
   "outputs": [
    {
     "name": "stdout",
     "output_type": "stream",
     "text": [
      "\n",
      "\n",
      "\n",
      "403\n",
      "\n",
      "\n",
      "內網資料，可至臺科大登入校內無線網路或者利用圖書館等校內電腦查詢！\n",
      " \n",
      "電算中心\n",
      "\n",
      "\n",
      "\n",
      "None\n"
     ]
    }
   ],
   "source": [
    "# 使用示例\n",
    "bulletin_scraper = NTUSTBulletinScraper(\"https://bulletin.ntust.edu.tw/p/403-1045-1391-1.php?Lang=zh-tw\")\n",
    "bulletin_scraper.scrape()\n"
   ]
  },
  {
   "cell_type": "code",
   "execution_count": null,
   "metadata": {},
   "outputs": [],
   "source": [
    "language_center_scraper = NTUSTLanguageCenterScraper(\"https://lc.ntust.edu.tw/\")\n",
    "language_center_scraper.scrape()\n",
    "\n"
   ]
  },
  {
   "cell_type": "code",
   "execution_count": null,
   "metadata": {},
   "outputs": [],
   "source": [
    "major_announcement_scraper = NTUSTMajorAnnouncementScraper(\"https://www.ntust.edu.tw/p/403-1000-168-1.php?Lang=zh-tw\")\n",
    "major_announcement_scraper.scrape()"
   ]
  }
 ],
 "metadata": {
  "kernelspec": {
   "display_name": "env",
   "language": "python",
   "name": "python3"
  },
  "language_info": {
   "codemirror_mode": {
    "name": "ipython",
    "version": 3
   },
   "file_extension": ".py",
   "mimetype": "text/x-python",
   "name": "python",
   "nbconvert_exporter": "python",
   "pygments_lexer": "ipython3",
   "version": "3.10.12"
  },
  "orig_nbformat": 4
 },
 "nbformat": 4,
 "nbformat_minor": 2
}
